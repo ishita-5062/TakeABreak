#!pip install plyer

#Importing reqd. modules
from plyer import notification
import time

def breaknotify():
  notification.notify(title="Take a break, Ishita!", message= "You have been working for 20 minutes.",app_icon="C:\\Users\\ishit\\Downloads\\Dtafalonso-Android-Lollipop-Clock.ico", timeout=10)

if __name__=="__main__":
  while True:
    breaknotify()
    time.sleep(1200)
